{
 "cells": [
  {
   "cell_type": "markdown",
   "metadata": {},
   "source": [
    "Cordial saludo profe, en las clases no quedó la explicacion para el contenido de la carpeta de pruebas de calidad de datos.\n",
    "Hubieramos agardecido mucho su respuesta en el correo.\n",
    "\n",
    "    Gracias"
   ]
  }
 ],
 "metadata": {
  "language_info": {
   "name": "python"
  }
 },
 "nbformat": 4,
 "nbformat_minor": 2
}
